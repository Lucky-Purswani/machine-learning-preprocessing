{
 "cells": [
  {
   "cell_type": "markdown",
   "id": "197a4581-e8a4-471f-ae9d-ca497caa9b41",
   "metadata": {},
   "source": [
    "# Data Preprocessing-Before Building Machine learnig model"
   ]
  },
  {
   "cell_type": "markdown",
   "id": "0bf1bcf7-760f-4c1c-9b96-b258b9d57de7",
   "metadata": {},
   "source": [
    "## Steps of Data Preprocessing\n",
    "### step:1]- Import neccessary library\n",
    "Load all required Python libraries such as:\n",
    "- `pandas`\n",
    "- `numpy`\n",
    "- `seaborn`\n",
    "- `matplotlib`\n",
    "- `sklearn`\n",
    "### step:2]- Read Dataset\n",
    "Import the dataset using pandas or another library.\n",
    "    \n",
    "    Example:\n",
    "    ```python\n",
    "    import pandas as pd\n",
    "    data = pd.read_csv(\"filename.csv\")\n",
    "    \n",
    "### step:3]- sanity check of data\n",
    "Perform initial inspections:\n",
    "- Check shape, data types, and column names  \n",
    "- Use `data.info()`, `data.head()`  \n",
    "- Verify that data has been read correctly and values make sense\n",
    "### step:4]- Exploratory Data Analysis(EDA)\n",
    "Explore the dataset to understand patterns and relationships:\n",
    "- Summary statistics (`data.describe()`)  \n",
    "- Visualizations (histograms, boxplots, correlation heatmaps)  \n",
    "- Identify trends, distributions, and anomalies\n",
    "### step:5] -Missing Value treatments\n",
    "Handle missing data appropriately:\n",
    "- Deletion (`data.dropna()`)  \n",
    "- Imputation using mean, median, mode, or predictive models  \n",
    "- Use visual tools like heatmaps to detect missing patterns\n",
    "### step:6]- Outliers treatments\n",
    "Detect and handle outliers using:\n",
    "- Visualization methods (boxplots, scatterplots)  \n",
    "- Statistical techniques (IQR, Z-score)  \n",
    "- Apply transformations, trimming, or capping if needed\n",
    "### step:7]- duplicates & garbage value treatments\n",
    "Clean and refine data:\n",
    "- Remove duplicate records (`data.drop_duplicates()`)  \n",
    "- Identify and correct inconsistent or invalid entries  \n",
    "- Replace garbage values with valid placeholders or NaN\n",
    "### step:8]- Encoding of data\n",
    "Convert categorical variables into numeric format:\n",
    "- **Label Encoding** for ordinal categories  \n",
    "- **One-Hot Encoding** for nominal categories  \n",
    "- **Target Encoding** for advanced modeling approaches "
   ]
  },
  {
   "cell_type": "code",
   "execution_count": null,
   "id": "f2c24ecf-412a-4c81-80f2-1d684521824a",
   "metadata": {},
   "outputs": [],
   "source": []
  }
 ],
 "metadata": {
  "kernelspec": {
   "display_name": "Python [conda env:base] *",
   "language": "python",
   "name": "conda-base-py"
  },
  "language_info": {
   "codemirror_mode": {
    "name": "ipython",
    "version": 3
   },
   "file_extension": ".py",
   "mimetype": "text/x-python",
   "name": "python",
   "nbconvert_exporter": "python",
   "pygments_lexer": "ipython3",
   "version": "3.13.5"
  }
 },
 "nbformat": 4,
 "nbformat_minor": 5
}
