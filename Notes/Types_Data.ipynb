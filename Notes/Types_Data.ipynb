{
 "cells": [
  {
   "cell_type": "markdown",
   "id": "61b4998e-2ecc-4469-90b5-6960c69c8fd3",
   "metadata": {},
   "source": [
    "### **Types of Data**\n",
    "\n",
    "#### **1. Numerical Data**\n",
    "Data represented by **numbers**.\n",
    "\n",
    "- **(a) Continuous Data:**  \n",
    "  Can take **any value** within a range.  \n",
    "  Example → height, weight, temperature, income.  \n",
    "  ✅ Can use **mean**, **median**, **mode**, **KNN imputer**.\n",
    "\n",
    "- **(b) Discrete Data:**  \n",
    "  Takes **whole numbers only** (countable).  \n",
    "  Example → number of students, goals scored.  \n",
    "  ✅ Can use **mean**, **median**, **mode**, **KNN imputer**.\n",
    "\n",
    "---\n",
    "\n",
    "#### **2. Categorical Data**\n",
    "Data represented by **labels or categories**, not numbers.\n",
    "\n",
    "- **Nominal:** No order between categories.  \n",
    "  Example → gender (Male/Female), color (Red/Blue).  \n",
    "  ❌ **Cannot use mean/median/KNN imputer** directly.  \n",
    "  ✅ Can use **mode** or **encoding** (like one-hot).\n",
    "\n",
    "- **Ordinal:** Has a natural order.  \n",
    "  Example → size (Small < Medium < Large).  \n",
    "  ⚠️ **Median or mode** can be used (not mean).  \n",
    "  **KNN imputer** only after encoding.\n",
    "\n",
    "---\n",
    "\n",
    "### **Summary Table**\n",
    "\n",
    "| Data Type       | Example             | Mean | Median | Mode | KNN Imputer |\n",
    "|------------------|---------------------|------|---------|------|--------------|\n",
    "| Continuous       | Height, weight      | ✅   | ✅      | ✅   | ✅           |\n",
    "| Discrete         | Count of items      | ✅   | ✅      | ✅   | ✅           |\n",
    "| Categorical (Nominal) | Color, gender  | ❌   | ❌      | ✅   | ❌ (needs encoding) |\n",
    "| Categorical (Ordinal) | Size, rating   | ❌   | ✅      | ✅   | ⚠️ (after encoding) |\n"
   ]
  },
  {
   "cell_type": "code",
   "execution_count": null,
   "id": "a268e614-8e5d-4661-b2b3-d5603590e15f",
   "metadata": {},
   "outputs": [],
   "source": []
  }
 ],
 "metadata": {
  "kernelspec": {
   "display_name": "Python [conda env:base] *",
   "language": "python",
   "name": "conda-base-py"
  },
  "language_info": {
   "codemirror_mode": {
    "name": "ipython",
    "version": 3
   },
   "file_extension": ".py",
   "mimetype": "text/x-python",
   "name": "python",
   "nbconvert_exporter": "python",
   "pygments_lexer": "ipython3",
   "version": "3.13.5"
  }
 },
 "nbformat": 4,
 "nbformat_minor": 5
}
