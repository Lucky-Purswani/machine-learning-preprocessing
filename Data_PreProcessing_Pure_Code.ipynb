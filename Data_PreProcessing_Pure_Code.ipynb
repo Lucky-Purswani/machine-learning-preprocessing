{
 "cells": [
  {
   "cell_type": "markdown",
   "id": "df8dfcea-26b9-4f4f-9741-0a7bf3bee23d",
   "metadata": {},
   "source": [
    "# Step-1 Import Necessary Libraries"
   ]
  },
  {
   "cell_type": "code",
   "execution_count": null,
   "id": "b990a744-3bde-4f2b-a6ec-dfac40391667",
   "metadata": {},
   "outputs": [],
   "source": [
    "import numpy as np\n",
    "import pandas as pd\n",
    "import matplotlib.pyplot as plt\n",
    "import seaborn as sns"
   ]
  },
  {
   "cell_type": "markdown",
   "id": "9a82f02d-4713-4979-89be-47ac901ab280",
   "metadata": {},
   "source": [
    "# Step-2 Read and understand the dataset"
   ]
  },
  {
   "cell_type": "code",
   "execution_count": null,
   "id": "a8007cba-f3d2-45d9-ad3a-56615b943d20",
   "metadata": {},
   "outputs": [],
   "source": [
    "#Loading the dataset\n",
    "df = pd.read_csv(\"C:/Users/Priyanka\\Desktop/DS/Project_5_Data_Cleaning-2/Dataset/Life Expectancy Data.csv\")"
   ]
  },
  {
   "cell_type": "code",
   "execution_count": null,
   "id": "9a813e3b-ad9c-45cc-b5e7-b69e4736b680",
   "metadata": {
    "scrolled": true
   },
   "outputs": [],
   "source": [
    "df.head()"
   ]
  },
  {
   "cell_type": "code",
   "execution_count": null,
   "id": "9c4e4c47-4133-430e-9281-918261e667dc",
   "metadata": {},
   "outputs": [],
   "source": [
    "df.tail()"
   ]
  },
  {
   "cell_type": "markdown",
   "id": "a8fe2d27-c140-4413-b8b9-c6393b736bcf",
   "metadata": {},
   "source": [
    "# Step-3 Sanity Checks"
   ]
  },
  {
   "cell_type": "code",
   "execution_count": null,
   "id": "73d8049c-7f5c-4091-ac5e-1609de1c6746",
   "metadata": {},
   "outputs": [],
   "source": [
    "#Shape1\n",
    "df.shape"
   ]
  },
  {
   "cell_type": "code",
   "execution_count": null,
   "id": "9e31f08c-13bd-4bcb-8c62-3d19221094e5",
   "metadata": {
    "scrolled": true
   },
   "outputs": [],
   "source": [
    "#Find the missing values.\n",
    "df.isnull().sum()"
   ]
  },
  {
   "cell_type": "code",
   "execution_count": null,
   "id": "b5fbe77e-6019-4938-8810-5f8a2b23c66e",
   "metadata": {
    "scrolled": true
   },
   "outputs": [],
   "source": [
    "#Missing value percentage.\n",
    "(df.isnull().sum()/df.shape[0])*100"
   ]
  },
  {
   "cell_type": "code",
   "execution_count": null,
   "id": "30617b08-c70e-4c4a-aaa7-5428d0990ba3",
   "metadata": {},
   "outputs": [],
   "source": [
    "#Find duplicate rows.\n",
    "df.duplicated().sum()"
   ]
  },
  {
   "cell_type": "code",
   "execution_count": null,
   "id": "229d27ee-61a3-4891-85fc-9d484cb18656",
   "metadata": {
    "scrolled": true
   },
   "outputs": [],
   "source": [
    "#Finding the garbage values.\n",
    "#This can be done by printing unique vals of each col.\n",
    "for i in df.select_dtypes(include='object').columns: #Took cols having dtpye obj bcoz other dtype will replace garbages with N/A or null\n",
    "    print(\"Column\", i)\n",
    "    print(df[i].value_counts())\n",
    "    print(\"***\"*15) #Separator.\n",
    "\n",
    "#If garbage value would have been presnet then it would be like-> \" \"   7"
   ]
  },
  {
   "cell_type": "markdown",
   "id": "1b3b9981-c823-4b3e-8213-c79b32e635f1",
   "metadata": {},
   "source": [
    "# Step-4 EDA"
   ]
  },
  {
   "cell_type": "code",
   "execution_count": null,
   "id": "fad91987-82ae-49e5-b014-c7d7fb7a72fe",
   "metadata": {},
   "outputs": [],
   "source": [
    "#Descriptive stats.\n",
    "df.describe() #This give stats about our data."
   ]
  },
  {
   "cell_type": "code",
   "execution_count": null,
   "id": "73723be3-b901-4a6c-b116-4e01c1abef65",
   "metadata": {},
   "outputs": [],
   "source": [
    "#For object we can also use:-\n",
    "df.describe(include='object')\n",
    "#This is a diff kind of stats other than above for objs."
   ]
  },
  {
   "cell_type": "code",
   "execution_count": null,
   "id": "25db9891-370a-44b5-9ae2-4318a18ee196",
   "metadata": {
    "scrolled": true
   },
   "outputs": [],
   "source": [
    "#Histogram to understand the distribution.\n",
    "sns.set_theme(style=\"darkgrid\", palette=\"pastel\") \n",
    "for i in df.select_dtypes(include='number').columns:\n",
    "    sns.histplot(data = df, x=df[i])\n",
    "    plt.show()\n",
    "\n",
    "#Many of the hist plots are positively skewed which means no normal distribution."
   ]
  },
  {
   "cell_type": "code",
   "execution_count": null,
   "id": "d5407e39-3be0-4027-8476-bbc08b9161e1",
   "metadata": {
    "scrolled": true
   },
   "outputs": [],
   "source": [
    "#Box plot to identify the outliers.\n",
    "sns.set_theme(style=\"whitegrid\", palette=\"muted\") \n",
    "for i in df.select_dtypes(include='number').columns:\n",
    "    sns.boxplot(data = df, x=df[i])\n",
    "    plt.show()\n",
    "\n",
    "#We can see how many cols have major outliers."
   ]
  },
  {
   "cell_type": "code",
   "execution_count": null,
   "id": "9e178cb9-39ef-42f0-99c2-d74df1cdd595",
   "metadata": {},
   "outputs": [],
   "source": [
    "#Scatter plot for understanding the relationship.\n",
    "#Lets understand the relation of the cols with the life expectancy col.\n",
    "df.select_dtypes(\"number\").columns"
   ]
  },
  {
   "cell_type": "code",
   "execution_count": null,
   "id": "17a08fe7-1ae5-4a91-8a7a-768cab0f4359",
   "metadata": {},
   "outputs": [],
   "source": [
    "cols = ['Year' , 'Adult Mortality', 'infant deaths',\n",
    "       'Alcohol', 'percentage expenditure', 'Hepatitis B', 'Measles ', ' BMI ',\n",
    "       'under-five deaths ', 'Polio', 'Total expenditure', 'Diphtheria ',\n",
    "       ' HIV/AIDS', 'GDP', 'Population', ' thinness  1-19 years',\n",
    "       ' thinness 5-9 years', 'Income composition of resources', 'Schooling']"
   ]
  },
  {
   "cell_type": "code",
   "execution_count": null,
   "id": "1b5390ec-2e8c-4ff7-aa43-fb48d182b46b",
   "metadata": {
    "scrolled": true
   },
   "outputs": [],
   "source": [
    "sns.set_theme(style=\"darkgrid\", palette=\"muted\") \n",
    "for i in cols:\n",
    "    sns.scatterplot(data = df, x = i, y = 'Life expectancy ')\n",
    "    plt.show()"
   ]
  },
  {
   "cell_type": "code",
   "execution_count": null,
   "id": "462f76bb-8988-487f-bd98-a1946064b423",
   "metadata": {
    "scrolled": true
   },
   "outputs": [],
   "source": [
    "#Corelation with heatmap to iterpret the relation and multi-collinearity.\n",
    "s = df.select_dtypes(include='number').corr()\n",
    "plt.figure(figsize=(15, 15))\n",
    "sns.heatmap(s, annot=True)"
   ]
  },
  {
   "cell_type": "markdown",
   "id": "85af2618-3ad7-4628-af6a-0b87c9d79b1e",
   "metadata": {},
   "source": [
    "# Step-5 Missing Values Treatment."
   ]
  },
  {
   "cell_type": "code",
   "execution_count": null,
   "id": "38005c4c-f997-42d7-884a-3c1b1776785b",
   "metadata": {},
   "outputs": [],
   "source": [
    "#Choose the method to input the missing values\n",
    "#Like which one to use from mean, median, mode or KNNImputer to fill the missing values.\n",
    "df.isnull().sum()"
   ]
  },
  {
   "cell_type": "code",
   "execution_count": null,
   "id": "736eec3e-a9d8-4542-b213-191c4dd3d064",
   "metadata": {},
   "outputs": [],
   "source": [
    "#Main point is that the target variable is the life expectancy so we dont do the operation on it.\n",
    "#Like we dont fill the missing vals by mean, med or mode.\n",
    "#Lets fill some cols using mean\n",
    "# cols = ['Year' , 'Adult Mortality', 'infant deaths',\n",
    "#        'Alcohol', 'percentage expenditure', 'Hepatitis B', 'Measles ', ' BMI ',\n",
    "#        'under-five deaths ', 'Polio', 'Total expenditure', 'Diphtheria ',\n",
    "#        ' HIV/AIDS', 'GDP', 'Population', ' thinness  1-19 years',\n",
    "#        ' thinness 5-9 years', 'Income composition of resources', 'Schooling']\n",
    "for i in [\" BMI \", \"Polio\"]:\n",
    "    df[i].fillna(df[i].median())"
   ]
  },
  {
   "cell_type": "code",
   "execution_count": null,
   "id": "3ea1fd8d-dba5-497a-b909-949bd335f064",
   "metadata": {},
   "outputs": [],
   "source": [
    "from sklearn.impute import KNNImputer\n",
    "\n",
    "def knn_impute(df, cols, n_neighbors=5):\n",
    "    imputer = KNNImputer(n_neighbors=n_neighbors)\n",
    "    df[cols] = imputer.fit_transform(df[cols])\n",
    "    return df"
   ]
  },
  {
   "cell_type": "code",
   "execution_count": null,
   "id": "c40f9b50-d801-450b-8f64-4b2888a6d577",
   "metadata": {},
   "outputs": [],
   "source": [
    "# Health & Life indicators\n",
    "health_cols = ['Adult Mortality', ' BMI ',\n",
    "               'Hepatitis B', 'Polio', 'Diphtheria ', \n",
    "               'under-five deaths ', 'infant deaths', ' HIV/AIDS']\n",
    "\n",
    "df = knn_impute(df, health_cols)\n",
    "\n",
    "# Economy & Living standards\n",
    "economic_cols = ['GDP', 'Income composition of resources', 'Schooling',\n",
    "                 'percentage expenditure', 'Total expenditure', \n",
    "                 'Alcohol', 'Population']\n",
    "\n",
    "df = knn_impute(df, economic_cols)\n",
    "\n",
    "# Nutrition\n",
    "nutrition_cols = [' thinness  1-19 years', ' thinness 5-9 years']\n",
    "df = knn_impute(df, nutrition_cols)"
   ]
  },
  {
   "cell_type": "code",
   "execution_count": null,
   "id": "600a64b9-b8cb-4fc7-985a-e8082d9012c4",
   "metadata": {
    "scrolled": true
   },
   "outputs": [],
   "source": [
    "df.isnull().sum()"
   ]
  },
  {
   "cell_type": "markdown",
   "id": "cc91de80-be1d-48b8-b410-a233ffcc6645",
   "metadata": {},
   "source": [
    "# Step-6 Outlier Treatments."
   ]
  },
  {
   "cell_type": "markdown",
   "id": "151470a4-49ac-426c-8c12-4733784f89bf",
   "metadata": {},
   "source": [
    "### **What are Outliers?**  \n",
    "Outliers are **values that are very different** (too high or too low) compared to most data points.  \n",
    "They can **distort averages and model performance**.  \n",
    "\n",
    "**Example:**  \n",
    "`[10, 12, 11, 13, 95]` → here **95** is an outlier.  \n",
    "\n",
    "---\n",
    "\n",
    "### **What are Whiskers?**  \n",
    "In a **boxplot**, whiskers are the **lines that extend from the box** up to:\n",
    "- **Lower whisker = Q1 - 1.5 × IQR**  \n",
    "- **Upper whisker = Q3 + 1.5 × IQR**  \n",
    "Values outside whiskers = **outliers**  \n",
    "\n",
    "---\n",
    "\n",
    "### **Should You Remove Outliers?**  \n",
    "- ✅ Remove if they are **errors or irrelevant** (e.g., height = 900 cm).  \n",
    "- ❌ Keep if they are **genuine** and meaningful (e.g., very rich person in income data).  \n",
    "\n",
    "**Tip:**  \n",
    "Check **domain knowledge** before removing!  \n"
   ]
  },
  {
   "cell_type": "code",
   "execution_count": null,
   "id": "072940bb-ef1b-44e6-8615-4b007d84d154",
   "metadata": {},
   "outputs": [],
   "source": [
    "#Decide to do the outlier treatement or not!\n",
    "#Outlier treatments is only done on the continuous varibale.\n",
    "#It is not done on the Target Var, Discrete Var and Categorial Var.\n"
   ]
  },
  {
   "cell_type": "code",
   "execution_count": null,
   "id": "0fecd3df-e203-4c02-80d7-44f98c75b5eb",
   "metadata": {},
   "outputs": [],
   "source": [
    "#Steps to do outlier treatment.\n",
    "\n",
    "#1. We have to get the lower wisker and upper wisker.\n",
    "#2. The points lesser than the lower wisker will be replaced by the lower wisker.\n",
    "#3. And the points greater than the upper wisker will be replaced by the upper wisker.\n",
    "\n",
    "def wisker(col):\n",
    "    q1, q3 = np.percentile(col, [25, 75])\n",
    "    iqr = q3-q1\n",
    "    lw = q1 - 1.5 * iqr\n",
    "    uw = q3 + 1.5 * iqr\n",
    "    return lw, uw"
   ]
  },
  {
   "cell_type": "code",
   "execution_count": null,
   "id": "b02b18f3-8ce9-40e9-8951-1639f1b2fc17",
   "metadata": {},
   "outputs": [],
   "source": [
    "df.columns"
   ]
  },
  {
   "cell_type": "code",
   "execution_count": null,
   "id": "1c7ade51-bb5a-470f-a96f-bfbd7bbb88a8",
   "metadata": {},
   "outputs": [],
   "source": [
    "wisker(df['GDP']) #Check"
   ]
  },
  {
   "cell_type": "code",
   "execution_count": null,
   "id": "8b54e78e-e056-4d23-b760-ed847aa026b6",
   "metadata": {},
   "outputs": [],
   "source": [
    "#Taking GDP as example for before and after.\n",
    "sns.boxplot(data = df, x = df['GDP'])"
   ]
  },
  {
   "cell_type": "code",
   "execution_count": null,
   "id": "98cd6a00-56a5-41b7-aecb-082aa7ee8a55",
   "metadata": {},
   "outputs": [],
   "source": [
    "for i in ['GDP','Total expenditure' , ' thinness  1-19 years' ,' thinness 5-9 years' ]:\n",
    "    lw, uw = wisker(df[i])\n",
    "    df[i] = np.where(df[i]<lw, lw, df[i])\n",
    "    df[i] = np.where(df[i]>uw, uw, df[i])"
   ]
  },
  {
   "cell_type": "code",
   "execution_count": null,
   "id": "3c5f78e2-ad6b-4bc0-92e5-85b692affd2a",
   "metadata": {
    "scrolled": true
   },
   "outputs": [],
   "source": [
    "for i in ['GDP','Total expenditure' , ' thinness  1-19 years' ,' thinness 5-9 years' ]:\n",
    "    sns.boxplot(data = df, x = df[i]);\n",
    "    plt.show()"
   ]
  },
  {
   "cell_type": "markdown",
   "id": "a60dc512-28ce-458e-b693-7f648ea63337",
   "metadata": {},
   "source": [
    "# Step-7 Duplicate and Garbage value treatment."
   ]
  },
  {
   "cell_type": "code",
   "execution_count": null,
   "id": "688c12e5-ff67-462e-9116-b98b88b6f9ec",
   "metadata": {},
   "outputs": [],
   "source": [
    "#Clean the duplicates\n",
    "df.duplicated().sum()"
   ]
  },
  {
   "cell_type": "code",
   "execution_count": null,
   "id": "69e9abe6-9327-41d2-8fc0-24a67064bf21",
   "metadata": {},
   "outputs": [],
   "source": [
    "#Since no duplicate is there we wont do it. To remove dups run df.drop_duplicates()"
   ]
  },
  {
   "cell_type": "code",
   "execution_count": null,
   "id": "1594edcd-b5b1-49e2-b3a1-b830257c007f",
   "metadata": {},
   "outputs": [],
   "source": [
    "#Cleanup the garbage values.\n",
    "#There is no garbage values as we saw above. \n",
    "#If that would have been there we would have replaced it by medan.\n",
    "\n"
   ]
  },
  {
   "cell_type": "markdown",
   "id": "ffcf6d9f-fdfb-4ab6-b44d-f01a8b5ab5bc",
   "metadata": {},
   "source": [
    "# Step-8 Encoding of Data"
   ]
  },
  {
   "cell_type": "code",
   "execution_count": null,
   "id": "98dace3e-c808-4bc9-8830-d658f6ebe58c",
   "metadata": {},
   "outputs": [],
   "source": [
    "#Now to give this data to the model we should have to convert all the cols in numberical.\n",
    "#Data should be numerical in order to feed it to the model.\n",
    "#So the conversion of the data cols from categorial to numerical is encoding. \n",
    "\n",
    "#Two methods Dummy and Label\n",
    "dummy = pd.get_dummies(data = df, columns = [\"Country\", \"Status\"], drop_first = True)"
   ]
  },
  {
   "cell_type": "code",
   "execution_count": null,
   "id": "146a60b0-933d-4ae5-b3a9-b6ffeb1321d0",
   "metadata": {},
   "outputs": [],
   "source": [
    "dummy"
   ]
  },
  {
   "cell_type": "code",
   "execution_count": null,
   "id": "1e09b6c3-34b6-40e5-b27c-8f63650f4fca",
   "metadata": {},
   "outputs": [],
   "source": [
    "#Now the data is ready to feed the model.\n",
    "dummy.info()"
   ]
  },
  {
   "cell_type": "code",
   "execution_count": null,
   "id": "96f08464-eaa7-498d-9aca-8b18cbe08ebb",
   "metadata": {},
   "outputs": [],
   "source": [
    "dummy.to_csv(\"cleaned_data.csv\", index=False)"
   ]
  },
  {
   "cell_type": "code",
   "execution_count": null,
   "id": "8b564c44-6f75-4d26-8001-204f78282176",
   "metadata": {},
   "outputs": [],
   "source": []
  }
 ],
 "metadata": {
  "kernelspec": {
   "display_name": "Python [conda env:base] *",
   "language": "python",
   "name": "conda-base-py"
  },
  "language_info": {
   "codemirror_mode": {
    "name": "ipython",
    "version": 3
   },
   "file_extension": ".py",
   "mimetype": "text/x-python",
   "name": "python",
   "nbconvert_exporter": "python",
   "pygments_lexer": "ipython3",
   "version": "3.13.5"
  }
 },
 "nbformat": 4,
 "nbformat_minor": 5
}
